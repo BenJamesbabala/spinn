{
 "cells": [
  {
   "cell_type": "code",
   "execution_count": 1,
   "metadata": {
    "collapsed": false
   },
   "outputs": [
    {
     "name": "stdout",
     "output_type": "stream",
     "text": [
      "Couldn't import dot_parser, loading of dot files will not be possible.\n"
     ]
    }
   ],
   "source": [
    "import numpy as np\n",
    "import theano\n",
    "from theano import tensor as T\n",
    "from theano.tensor.shared_randomstreams import RandomStreams\n",
    "srng = RandomStreams(seed=12193)\n",
    "import util"
   ]
  },
  {
   "cell_type": "code",
   "execution_count": 8,
   "metadata": {
    "collapsed": false
   },
   "outputs": [],
   "source": [
    "sz = 6\n",
    "num_steps = 5\n",
    "\n",
    "START = T.zeros((1,6))\n",
    "states = [(START, None, None)]\n",
    "\n",
    "DUMMY_INPUT = T.zeros((1,6)) # a dummy tensor used as a place-holder\n",
    "DUMMY = T.zeros((1,0))\n",
    "vs = util.VariableStore()"
   ]
  },
  {
   "cell_type": "code",
   "execution_count": 9,
   "metadata": {
    "collapsed": true
   },
   "outputs": [],
   "source": [
    "def TreeLSTMLayer(lstm_prev, external_state, full_memory_dim, vs, name=\"tree_lstm\", initializer=None, external_state_dim=0):\n",
    "    # Same computation as the function in util.py, but returns more internal state.\n",
    "    \n",
    "    assert full_memory_dim % 2 == 0, \"Input is concatenated (h, c); dim must be even.\"\n",
    "    hidden_dim = full_memory_dim / 2\n",
    "\n",
    "    W = vs.add_param(\"%s/W\" % name, (hidden_dim * 2 + external_state_dim, hidden_dim * 5),\n",
    "                     initializer=initializer)\n",
    "    b = vs.add_param(\"%s/b\" % name, (hidden_dim * 5,),\n",
    "                     initializer=util.TreeLSTMBiasInitializer())\n",
    "\n",
    "    def slice_gate(gate_data, i):\n",
    "        return gate_data[:, i * hidden_dim:(i + 1) * hidden_dim]\n",
    "\n",
    "    # Decompose previous LSTM value into hidden and cell value\n",
    "    l_h_prev = lstm_prev[:, :hidden_dim]\n",
    "    l_c_prev = lstm_prev[:, hidden_dim:2 * hidden_dim]\n",
    "    r_h_prev = lstm_prev[:, 2 * hidden_dim:3 * hidden_dim]\n",
    "    r_c_prev = lstm_prev[:, 3 * hidden_dim:]\n",
    "    if external_state_dim == 0:\n",
    "        h_prev = T.concatenate([l_h_prev, r_h_prev], axis=1)\n",
    "    else:\n",
    "        h_prev = T.concatenate([l_h_prev, external_state, r_h_prev], axis=1)\n",
    "\n",
    "    # Compute and slice gate values\n",
    "    gates = T.dot(h_prev, W) + b\n",
    "    i_gate, fl_gate, fr_gate, o_gate, cell_inp = [slice_gate(gates, i) for i in range(5)]\n",
    "\n",
    "    # Apply nonlinearities\n",
    "    i_gate = T.nnet.sigmoid(i_gate)\n",
    "    fl_gate = T.nnet.sigmoid(fl_gate)\n",
    "    fr_gate = T.nnet.sigmoid(fr_gate) \n",
    "    o_gate = T.nnet.sigmoid(o_gate)\n",
    "    cell_inp = T.tanh(cell_inp)\n",
    "    IFOGf = T.concatenate([i_gate, fl_gate, fr_gate, o_gate, cell_inp])\n",
    "\n",
    "    # Compute new cell and hidden value\n",
    "    c_t = fl_gate * l_c_prev + fr_gate * r_c_prev + i_gate * cell_inp\n",
    "    tanh_c =  T.tanh(c_t)\n",
    "    h_t = o_gate * tanh_c\n",
    "\n",
    "    return (T.concatenate([h_t, c_t], axis=1), IFOGf, tanh_c)"
   ]
  },
  {
   "cell_type": "code",
   "execution_count": 10,
   "metadata": {
    "collapsed": false,
    "scrolled": true
   },
   "outputs": [],
   "source": [
    "# Fprop\n",
    "for _ in range(num_steps):\n",
    "    states.append(TreeLSTMLayer(T.concatenate([states[-1][0], DUMMY_INPUT], axis=0), DUMMY, sz, vs))\n",
    "output = states[-1][0].sum()"
   ]
  },
  {
   "cell_type": "code",
   "execution_count": 11,
   "metadata": {
    "collapsed": false
   },
   "outputs": [],
   "source": [
    "def TreeLSTMLayerGradients(W, b, IFOGf, tanhc, h_prev_l, h_prev_r, c_prev_l, c_prev_r, c, delta_h, delta_c, sz):\n",
    "    # in = [ones(1, size(h_prev_l, 2), 'like', h_prev_l); h_prev_l; h_prev_r];\n",
    "    inputs = T.concatenate([h_prev_l, h_prev_r])\n",
    "\n",
    "    def slice_gate(gate_data, i):\n",
    "        return gate_data[:, i * sz:(i + 1) * sz]\n",
    "\n",
    "    # IFOGf should be the five gates, saved after the nonlinearities.\n",
    "    i_gate, fl_gate, fr_gate, o_gate, cell_inp = [slice_gate(IFOGf, i) for i in range(5)]\n",
    "\n",
    "    # tanhC = tanh(c); # should save between fprop and bprop\n",
    "    tanhC = T.tanh(c)\n",
    "    \n",
    "    # dIFOGf(Or, :) = (tanhC .* delta_h);\n",
    "    d_o = tanhC * delta_h;\n",
    "    \n",
    "    # dC = delta_c + (1 - tanhC .^ 2) .* IFOGf(Or, :) .* delta_h;\n",
    "    d_c = delta_c + (1 - T.sqr(tanhC)) * o_gate * delta_h\n",
    "    \n",
    "    # dIFOGf(Flr, :) = c_prev_l .* dC;\n",
    "    # dIFOGf(Frr, :) = c_prev_r .* dC;\n",
    "    # delta_c_l = IFOGf(Flr, :) .* dC;\n",
    "    # delta_c_r = IFOGf(Frr, :) .* dC;\n",
    "    d_fl = c_prev_l * d_c\n",
    "    d_fr = c_prev_r * d_c\n",
    "    delta_c_l = fl_gate * d_c\n",
    "    delta_c_r = fr_gate * d_c\n",
    "    \n",
    "    # dIFOGf(Ir, :) = IFOGf(Gr, :) .* dC;\n",
    "    # dIFOGf(Gr, :) = IFOGf(Ir, :) .* dC;\n",
    "    d_i = cell_inp * d_c\n",
    "    d_cell_inp = i_gate * d_c\n",
    "\n",
    "    # Backprop through nonlinearities\n",
    "    # dIFOG(Gr, :) = (1 - (IFOGf(Gr, :) .^ 2)) .* dIFOGf(Gr, :);\n",
    "    d_raw_cell_inp = (1 - T.sqr(cell_inp)) * d_cell_inp\n",
    "    \n",
    "    # y = IFOGf([Ir Flr Frr Or], :);\n",
    "    # dIFOG([Ir Flr Frr Or], :) = (y .* (1.0 - y)) .* dIFOGf([Ir Flr Frr Or], :);\n",
    "    def d_sigmoid(output, delta):\n",
    "        return output * (1.0 - output) * delta\n",
    "    d_raw_i = d_sigmoid(i_gate, d_i)\n",
    "    d_raw_fl = d_sigmoid(fl_gate, d_fl)\n",
    "    d_raw_fr = d_sigmoid(fr_gate, d_fr)\n",
    "    d_raw_o = d_sigmoid(o_gate, d_o)\n",
    "    d_IFOG = T.concatenate([d_raw_i, d_raw_fl, d_raw_fr, d_raw_o, d_raw_cell_inp], axis=1)\n",
    "    \n",
    "    # Compute main gradients and deltas.\n",
    "    # dWLSTM = dIFOG * in';\n",
    "    d_W = T.dot(d_IFOG, T.transpose(inputs))\n",
    "    d_b = d_IFOG\n",
    "    # dHin = WLSTM' * dIFOG;\n",
    "    d_h_in = T.dot(T.transpose(W), d_IFOG)\n",
    "    \n",
    "    # % Compute h deltas.\n",
    "    # delta_h_l = dHin(2:D + 1, :);\n",
    "    # delta_h_r = dHin(D + 2:2 * D + 1, :);\n",
    "    delta_h_l = d_h_in[:, 0:sz + 1]\n",
    "    delta_h_r = d_h_in[:, sz + 1:2 * sz + 1]\n",
    "    \n",
    "    return d_W, d_b, delta_h_l, delta_h_r, delta_c_l, delta_c_r"
   ]
  },
  {
   "cell_type": "code",
   "execution_count": 12,
   "metadata": {
    "collapsed": false
   },
   "outputs": [],
   "source": [
    "# Bprop\n",
    "real_grad = T.grad(output, vs.vars['tree_lstm/W'])\n",
    "\n",
    "manual_grad = T.zeros((6, 15))\n",
    "delta_h_l = T.ones((6, 1))\n",
    "delta_c_l = T.zeros((6, 1))\n",
    "for i in range(num_steps, 0, -1):\n",
    "    d_W, d_b, delta_h_l, delta_h_r, delta_c_l, delta_c_r = TreeLSTMLayerGradients(\n",
    "        vs.vars['tree_lstm/W'], vs.vars['tree_lstm/b'], \n",
    "        states[i][1], states[i][2], # IFOGf, tanh_c\n",
    "        states[i - 1][0][:, 0:sz], DUMMY_INPUT[:, 0:sz], # h_prev \n",
    "        states[i - 1][0][:, sz:2 * sz], DUMMY_INPUT[:, sz:2 * sz], # c_prev \n",
    "        states[i][0][:, sz:2 * sz], delta_h_l, delta_c_l, sz) # c, delta_h, delta_c, sz    \n",
    "    manual_grad += d_W"
   ]
  },
  {
   "cell_type": "code",
   "execution_count": null,
   "metadata": {
    "collapsed": false
   },
   "outputs": [],
   "source": [
    "f = theano.function([], (T.eq(manual_grad, real_grad),\n",
    "                          manual_grad, real_grad))\n"
   ]
  },
  {
   "cell_type": "code",
   "execution_count": null,
   "metadata": {
    "collapsed": false
   },
   "outputs": [],
   "source": [
    "print \"\\n\".join(str(x) for x in f()"
   ]
  },
  {
   "cell_type": "code",
   "execution_count": 9,
   "metadata": {
    "collapsed": false
   },
   "outputs": [
    {
     "name": "stdout",
     "output_type": "stream",
     "text": [
      "Elemwise{add,no_inplace} [@A] ''   \n",
      " |Elemwise{add,no_inplace} [@B] ''   \n",
      " | |Elemwise{add,no_inplace} [@C] ''   \n",
      " | | |Elemwise{add,no_inplace} [@D] ''   \n",
      " | | | |dot [@E] ''   \n",
      " | | | | |DimShuffle{1,0} [@F] 'a.T'   \n",
      " | | | | | |a [@G]\n",
      " | | | | |dot [@H] ''   \n",
      " | | | |   |dot [@I] ''   \n",
      " | | | |   | |dot [@J] ''   \n",
      " | | | |   | | |dot [@K] ''   \n",
      " | | | |   | | | |dot [@L] ''   \n",
      " | | | |   | | | | |Elemwise{second} [@M] ''   \n",
      " | | | |   | | | | | |dot [@N] ''   \n",
      " | | | |   | | | | | | |dot [@O] ''   \n",
      " | | | |   | | | | | | | |dot [@P] ''   \n",
      " | | | |   | | | | | | | | |dot [@Q] ''   \n",
      " | | | |   | | | | | | | | | |dot [@R] ''   \n",
      " | | | |   | | | | | | | | | | |dot [@S] ''   \n",
      " | | | |   | | | | | | | | | | | |a [@G]\n",
      " | | | |   | | | | | | | | | | | |W [@T]\n",
      " | | | |   | | | | | | | | | | |W [@T]\n",
      " | | | |   | | | | | | | | | |W [@T]\n",
      " | | | |   | | | | | | | | |W [@T]\n",
      " | | | |   | | | | | | | |W [@T]\n",
      " | | | |   | | | | | | |other [@U]\n",
      " | | | |   | | | | | |DimShuffle{x,x} [@V] ''   \n",
      " | | | |   | | | | |   |Elemwise{second,no_inplace} [@W] ''   \n",
      " | | | |   | | | | |     |Sum{acc_dtype=float64} [@X] ''   \n",
      " | | | |   | | | | |     | |dot [@N] ''   \n",
      " | | | |   | | | | |     |TensorConstant{1.0} [@Y]\n",
      " | | | |   | | | | |DimShuffle{1,0} [@Z] 'other.T'   \n",
      " | | | |   | | | |   |other [@U]\n",
      " | | | |   | | | |DimShuffle{1,0} [@BA] 'W.T'   \n",
      " | | | |   | | |   |W [@T]\n",
      " | | | |   | | |DimShuffle{1,0} [@BB] 'W.T'   \n",
      " | | | |   | |   |W [@T]\n",
      " | | | |   | |DimShuffle{1,0} [@BC] 'W.T'   \n",
      " | | | |   |   |W [@T]\n",
      " | | | |   |DimShuffle{1,0} [@BD] 'W.T'   \n",
      " | | | |     |W [@T]\n",
      " | | | |dot [@BE] ''   \n",
      " | | |   |DimShuffle{1,0} [@BF] ''   \n",
      " | | |   | |dot [@S] ''   \n",
      " | | |   |dot [@I] ''   \n",
      " | | |dot [@BG] ''   \n",
      " | |   |DimShuffle{1,0} [@BH] ''   \n",
      " | |   | |dot [@R] ''   \n",
      " | |   |dot [@J] ''   \n",
      " | |dot [@BI] ''   \n",
      " |   |DimShuffle{1,0} [@BJ] ''   \n",
      " |   | |dot [@Q] ''   \n",
      " |   |dot [@K] ''   \n",
      " |dot [@BK] ''   \n",
      "   |DimShuffle{1,0} [@BL] ''   \n",
      "   | |dot [@P] ''   \n",
      "   |dot [@L] ''   \n",
      "Elemwise{Add}[(0, 0)] [@A] ''   \n",
      " |Gemm{inplace} [@B] ''   \n",
      " | |Dot22 [@C] ''   \n",
      " | | |Dot22 [@D] ''   \n",
      " | | | |InplaceDimShuffle{1,0} [@E] 'W.T'   \n",
      " | | | | |W [@F]\n",
      " | | | |Dot22 [@G] ''   \n",
      " | | |   |InplaceDimShuffle{1,0} [@E] 'W.T'   \n",
      " | | |   |InplaceDimShuffle{1,0} [@H] 'a.T'   \n",
      " | | |     |a [@I]\n",
      " | | |Dot22 [@J] ''   \n",
      " | |   |Dot22 [@K] ''   \n",
      " | |   | |Dot22 [@L] ''   \n",
      " | |   | | |Alloc [@M] ''   \n",
      " | |   | | | |TensorConstant{(1, 1) of 1.0} [@N]\n",
      " | |   | | | |Shape_i{0} [@O] ''   \n",
      " | |   | | | | |a [@I]\n",
      " | |   | | | |Shape_i{1} [@P] ''   \n",
      " | |   | | |   |other [@Q]\n",
      " | |   | | |InplaceDimShuffle{1,0} [@R] 'other.T'   \n",
      " | |   | |   |other [@Q]\n",
      " | |   | |InplaceDimShuffle{1,0} [@E] 'W.T'   \n",
      " | |   |InplaceDimShuffle{1,0} [@E] 'W.T'   \n",
      " | |TensorConstant{1.0} [@S]\n",
      " | |Dot22 [@T] ''   \n",
      " | | |InplaceDimShuffle{1,0} [@E] 'W.T'   \n",
      " | | |Dot22 [@D] ''   \n",
      " | |Dot22 [@K] ''   \n",
      " | |TensorConstant{1.0} [@S]\n",
      " |Gemm{inplace} [@U] ''   \n",
      "   |Gemm{inplace} [@V] ''   \n",
      "   | |Dot22 [@W] ''   \n",
      "   | | |InplaceDimShuffle{1,0} [@H] 'a.T'   \n",
      "   | | |Dot22 [@X] ''   \n",
      "   | |   |Dot22 [@Y] ''   \n",
      "   | |   | |Dot22 [@J] ''   \n",
      "   | |   | |InplaceDimShuffle{1,0} [@E] 'W.T'   \n",
      "   | |   |InplaceDimShuffle{1,0} [@E] 'W.T'   \n",
      "   | |TensorConstant{1.0} [@S]\n",
      "   | |Dot22 [@G] ''   \n",
      "   | |Dot22 [@Y] ''   \n",
      "   | |TensorConstant{1.0} [@S]\n",
      "   |TensorConstant{1.0} [@S]\n",
      "   |Dot22 [@Z] ''   \n",
      "   | |InplaceDimShuffle{1,0} [@E] 'W.T'   \n",
      "   | |Dot22 [@T] ''   \n",
      "   |Dot22 [@L] ''   \n",
      "   |TensorConstant{1.0} [@S]\n"
     ]
    },
    {
     "ename": "NameError",
     "evalue": "name 'c1' is not defined",
     "output_type": "error",
     "traceback": [
      "\u001b[0;31m---------------------------------------------------------------------------\u001b[0m",
      "\u001b[0;31mNameError\u001b[0m                                 Traceback (most recent call last)",
      "\u001b[0;32m<ipython-input-9-e9ba6095a61a>\u001b[0m in \u001b[0;36m<module>\u001b[0;34m()\u001b[0m\n\u001b[1;32m      1\u001b[0m \u001b[0mtheano\u001b[0m\u001b[0;34m.\u001b[0m\u001b[0mprinting\u001b[0m\u001b[0;34m.\u001b[0m\u001b[0mdebugprint\u001b[0m\u001b[0;34m(\u001b[0m\u001b[0mreal_grad\u001b[0m\u001b[0;34m)\u001b[0m\u001b[0;34m\u001b[0m\u001b[0m\n\u001b[1;32m      2\u001b[0m \u001b[0mtheano\u001b[0m\u001b[0;34m.\u001b[0m\u001b[0mprinting\u001b[0m\u001b[0;34m.\u001b[0m\u001b[0mdebugprint\u001b[0m\u001b[0;34m(\u001b[0m\u001b[0mf\u001b[0m\u001b[0;34m.\u001b[0m\u001b[0mmaker\u001b[0m\u001b[0;34m.\u001b[0m\u001b[0mfgraph\u001b[0m\u001b[0;34m.\u001b[0m\u001b[0moutputs\u001b[0m\u001b[0;34m[\u001b[0m\u001b[0;36m2\u001b[0m\u001b[0;34m]\u001b[0m\u001b[0;34m)\u001b[0m\u001b[0;34m\u001b[0m\u001b[0m\n\u001b[0;32m----> 3\u001b[0;31m \u001b[0mtheano\u001b[0m\u001b[0;34m.\u001b[0m\u001b[0mprinting\u001b[0m\u001b[0;34m.\u001b[0m\u001b[0mdebugprint\u001b[0m\u001b[0;34m(\u001b[0m\u001b[0mT\u001b[0m\u001b[0;34m.\u001b[0m\u001b[0mgrad\u001b[0m\u001b[0;34m(\u001b[0m\u001b[0mc1\u001b[0m\u001b[0;34m.\u001b[0m\u001b[0msum\u001b[0m\u001b[0;34m(\u001b[0m\u001b[0;34m)\u001b[0m\u001b[0;34m,\u001b[0m \u001b[0mw\u001b[0m\u001b[0;34m)\u001b[0m\u001b[0;34m)\u001b[0m\u001b[0;34m\u001b[0m\u001b[0m\n\u001b[0m",
      "\u001b[0;31mNameError\u001b[0m: name 'c1' is not defined"
     ]
    }
   ],
   "source": [
    "theano.printing.debugprint(real_grad)\n",
    "theano.printing.debugprint(f.maker.fgraph.outputs[2])\n",
    "theano.printing.debugprint(T.grad(c1.sum(), w))"
   ]
  },
  {
   "cell_type": "code",
   "execution_count": null,
   "metadata": {
    "collapsed": true
   },
   "outputs": [],
   "source": []
  }
 ],
 "metadata": {
  "kernelspec": {
   "display_name": "Python 2",
   "language": "python",
   "name": "python2"
  },
  "language_info": {
   "codemirror_mode": {
    "name": "ipython",
    "version": 2
   },
   "file_extension": ".py",
   "mimetype": "text/x-python",
   "name": "python",
   "nbconvert_exporter": "python",
   "pygments_lexer": "ipython2",
   "version": "2.7.10"
  }
 },
 "nbformat": 4,
 "nbformat_minor": 0
}
